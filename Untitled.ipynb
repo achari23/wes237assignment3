{
 "cells": [
  {
   "cell_type": "code",
   "execution_count": 8,
   "id": "eb44eaf5",
   "metadata": {},
   "outputs": [],
   "source": [
    "import ctypes, time\n",
    "shared_lib = ctypes.CDLL('./shared_lib.so')\n",
    "\n",
    "#cycle_count()\n",
    "#init_ctr(int32_t reset, int32_t en_div)\n"
   ]
  },
  {
   "cell_type": "code",
   "execution_count": 9,
   "id": "e44d5238",
   "metadata": {},
   "outputs": [],
   "source": [
    "def recur_fibo(n):\n",
    "   if n <= 1:\n",
    "       return n\n",
    "   else:\n",
    "       return(recur_fibo(n-1) + recur_fibo(n-2))\n"
   ]
  },
  {
   "cell_type": "code",
   "execution_count": 10,
   "id": "a9d69665",
   "metadata": {},
   "outputs": [],
   "source": [
    "def find_time(n):\n",
    "    shared_lib.init_ctr(1,1)\n",
    "    before_t = time.time()\n",
    "    before_cc = shared_lib.cycle_count()\n",
    "    recur_fibo(n)\n",
    "    after_t = time.time()\n",
    "    after_cc = shared_lib.cycle_count()\n",
    "    print('cycle count: {}'.format(after_cc-before_cc))\n",
    "    print('time: {}'.format(after_t-before_t))\n",
    "    pass\n"
   ]
  },
  {
   "cell_type": "code",
   "execution_count": 31,
   "id": "731edb8d",
   "metadata": {},
   "outputs": [
    {
     "name": "stdout",
     "output_type": "stream",
     "text": [
      "How many terms? 30\n",
      "cycle count: 37653620\n",
      "time: 3.7074217796325684\n"
     ]
    }
   ],
   "source": [
    "nterms = int(input(\"How many terms? \"))\n",
    "find_time(nterms)"
   ]
  },
  {
   "cell_type": "code",
   "execution_count": null,
   "id": "3689933c",
   "metadata": {},
   "outputs": [],
   "source": []
  }
 ],
 "metadata": {
  "kernelspec": {
   "display_name": "Python 3",
   "language": "python",
   "name": "python3"
  },
  "language_info": {
   "codemirror_mode": {
    "name": "ipython",
    "version": 3
   },
   "file_extension": ".py",
   "mimetype": "text/x-python",
   "name": "python",
   "nbconvert_exporter": "python",
   "pygments_lexer": "ipython3",
   "version": "3.8.2"
  }
 },
 "nbformat": 4,
 "nbformat_minor": 5
}
